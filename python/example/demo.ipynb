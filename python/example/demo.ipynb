{
 "cells": [
  {
   "cell_type": "code",
   "execution_count": 8,
   "metadata": {},
   "outputs": [
    {
     "name": "stdout",
     "output_type": "stream",
     "text": [
      "The autoreload extension is already loaded. To reload it, use:\n",
      "  %reload_ext autoreload\n"
     ]
    }
   ],
   "source": [
    "# SETUP\n",
    "%load_ext autoreload\n",
    "%autoreload 2\n",
    "from opendp.v1.trans import *\n",
    "from opendp.v1.meas import *\n",
    "from opendp.v1.core import *"
   ]
  },
  {
   "cell_type": "code",
   "execution_count": 9,
   "metadata": {},
   "outputs": [
    {
     "name": "stdout",
     "output_type": "stream",
     "text": [
      "[1, 2, 3, 4, 5, 0]\n"
     ]
    }
   ],
   "source": [
    "# PARSING DATA\n",
    "data = \"\"\"\n",
    "1\n",
    "2\n",
    "3\n",
    "4\n",
    "5\n",
    "x\n",
    "\"\"\"[1:]\n",
    "\n",
    "# Parse lines as integers\n",
    "preprocessor = (\n",
    "    make_split_lines() >>\n",
    "    make_cast(TI=str, TO=int) >>\n",
    "    make_impute_constant(constant=0)\n",
    ")\n",
    "res = preprocessor(data)\n",
    "print(res)"
   ]
  },
  {
   "cell_type": "code",
   "execution_count": 10,
   "outputs": [
    {
     "name": "stdout",
     "output_type": "stream",
     "text": [
      "[1.0, 2.0, 3.0, 4.0, 5.0, 0.0]\n"
     ]
    }
   ],
   "source": [
    "# Parse lines as floats\n",
    "preprocessor = (\n",
    "    make_split_lines() >>\n",
    "    make_cast(TI=str, TO=float) >>\n",
    "    make_impute_constant(constant=0.)\n",
    ")\n",
    "res = preprocessor(data)\n",
    "print(res)\n"
   ],
   "metadata": {
    "collapsed": false,
    "pycharm": {
     "name": "#%%\n"
    }
   }
  },
  {
   "cell_type": "code",
   "execution_count": 11,
   "outputs": [
    {
     "name": "stdout",
     "output_type": "stream",
     "text": [
      "5\n"
     ]
    }
   ],
   "source": [
    "# LOADING DATA\n",
    "data = \"\"\"\n",
    "a\n",
    "b\n",
    "c\n",
    "d\n",
    "e\n",
    "\"\"\"[1:]\n",
    "\n",
    "# Split file by line\n",
    "count = make_split_lines() >> make_count(TIA=str)\n",
    "res = count(data)\n",
    "print(res)\n"
   ],
   "metadata": {
    "collapsed": false,
    "pycharm": {
     "name": "#%%\n"
    }
   }
  },
  {
   "cell_type": "code",
   "execution_count": 12,
   "metadata": {},
   "outputs": [
    {
     "name": "stdout",
     "output_type": "stream",
     "text": [
      "[1, 2, 3, 4, 5]\n"
     ]
    }
   ],
   "source": [
    "# DATAFRAMES\n",
    "data = \"\"\"\n",
    "ant, 1, 10.0\n",
    "bat, 2, 20.0\n",
    "cat, 3, 30.0\n",
    "foo, 4, 40.0\n",
    "bar, 5, 50.0\n",
    "\"\"\"[1:]\n",
    "# Split a dataframe\n",
    "split_dataframe = make_split_dataframe(separator=\",\", col_names=[0, 1, 2])\n",
    "parse = (\n",
    "    make_parse_column(key=1, T=int) >>\n",
    "    make_parse_column(key=2, T=float)\n",
    ")\n",
    "\n",
    "# Chain splitting and parsing\n",
    "split_and_parse = split_dataframe >> parse\n",
    "\n",
    "# look at column 1\n",
    "res = (split_and_parse >> make_select_column(key=1, T=int))(data)\n",
    "print(res)"
   ]
  },
  {
   "cell_type": "code",
   "execution_count": 13,
   "metadata": {},
   "outputs": [
    {
     "name": "stdout",
     "output_type": "stream",
     "text": [
      "15.75857743319612\n",
      "15.707649272078864\n"
     ]
    }
   ],
   "source": [
    "# SIMPLE OPERATIONS\n",
    "data = \"\"\"\n",
    "1\n",
    "2\n",
    "3\n",
    "4\n",
    "5\n",
    "\"\"\"[1:]\n",
    "\n",
    "# Split and parse lines, chain into sum query\n",
    "query = (\n",
    "    make_split_lines() >>\n",
    "    make_cast_default(TI=str, TO=float) >>\n",
    "    make_clamp(lower=0., upper=10.) >>\n",
    "    make_bounded_sum(lower=0., upper=10.)\n",
    ")\n",
    "\n",
    "query_laplace = query >> make_base_laplace(scale=1.)\n",
    "print(query_laplace(data))\n",
    "\n",
    "query_gaussian = query >> make_base_gaussian(scale=1.)\n",
    "print(query_gaussian(data))\n"
   ]
  },
  {
   "cell_type": "code",
   "execution_count": 14,
   "metadata": {
    "pycharm": {
     "name": "#%%\n"
    }
   },
   "outputs": [
    {
     "name": "stdout",
     "output_type": "stream",
     "text": [
      "using string fallback\n",
      "((15, 51.79854396238542), 5)\n"
     ]
    }
   ],
   "source": [
    "# PUTTING IT ALL TOGETHER\n",
    "data = \"\"\"\n",
    "ant, 1, 10.0\n",
    "bat, 2, 20.0\n",
    "cat, 3, 30.0\n",
    "foo, 4, 40.0\n",
    "bar, 5, 50.0\n",
    "\"\"\"[1:]\n",
    "\n",
    "parse_dataframe = (\n",
    "    make_split_dataframe(separator=\",\", col_names=[0, 1, 2]) >>\n",
    "    make_parse_column(key=1, T=int) >>\n",
    "    make_parse_column(key=2, T=float)\n",
    ")\n",
    "\n",
    "noisy_sum_col_1 = (\n",
    "    make_select_column(key=1, T=int) >>\n",
    "    make_clamp(lower=0, upper=10) >>\n",
    "    make_bounded_sum(lower=0, upper=10) >>\n",
    "    make_base_geometric(scale=1.0)\n",
    ")\n",
    "\n",
    "noisy_sum_col_2 = (\n",
    "    make_select_column(key=2, T=float) >>\n",
    "    make_clamp(lower=0., upper=10.) >>\n",
    "    make_bounded_sum(lower=0., upper=10.) >>\n",
    "    make_base_laplace(scale=1.0)\n",
    ")\n",
    "\n",
    "noisy_count = (\n",
    "    make_select_column(key=0, T=str) >>\n",
    "    make_count(TIA=str) >>\n",
    "    make_base_geometric(scale=1.0)\n",
    ")\n",
    "\n",
    "# Compose & chain\n",
    "composition = make_basic_composition(make_basic_composition(\n",
    "    noisy_sum_col_1, noisy_sum_col_2), noisy_count)\n",
    "\n",
    "everything = parse_dataframe >> composition\n",
    "\n",
    "print(everything(data))"
   ]
  }
 ],
 "metadata": {
  "kernelspec": {
   "display_name": "Python 3",
   "language": "python",
   "name": "python3"
  },
  "language_info": {
   "codemirror_mode": {
    "name": "ipython",
    "version": 3
   },
   "file_extension": ".py",
   "mimetype": "text/x-python",
   "name": "python",
   "nbconvert_exporter": "python",
   "pygments_lexer": "ipython3",
   "version": "3.7.7"
  }
 },
 "nbformat": 4,
 "nbformat_minor": 4
}