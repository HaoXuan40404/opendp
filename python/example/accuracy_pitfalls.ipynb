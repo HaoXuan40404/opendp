{
 "cells": [
  {
   "cell_type": "code",
   "execution_count": 47,
   "metadata": {
    "collapsed": true,
    "pycharm": {
     "name": "#%%\n"
    }
   },
   "outputs": [],
   "source": []
  },
  {
   "cell_type": "markdown",
   "source": [
    "# Accuracy: Pitfalls and Edge Cases\n",
    "\n",
    "This notebook describes OpenDP's accuracy calculations, and ways in which an analyst might be tripped up by them.\n",
    "\n",
    "### Overview\n",
    "\n",
    "#### Accuracy vs. Confidence Intervals\n",
    "\n",
    "Each privatizing mechanism (e.g. Laplace, Gaussian) in OpenDP has an associated accuracy that is a function of the requested privacy usage, sensitivity of the function whose values is being privatized, etc. Imagine you have data $D$ and you want, for some function $\\phi$ to return $\\phi(D)$ in a differentially private way -- we will call this value $\\phi_{dp}(D)$. An $\\alpha$-level accuracy guarantee $a$ promises that, over infinite runs of the privatizing mechanism on the data in question,\n",
    "$$ \\phi(D) \\in [\\phi_{dp}(D) - a, \\phi_{dp}(D) + a] $$\n",
    "with probability $1 - \\alpha$.\n",
    "\n",
    "This looks very much like the traditional confidence interval, but it is important to note a major difference. In a canonical confidence interval, the uncertainty being represented is due to sampling error -- that is, how often will it be the case that $\\phi(P)$ (the value of $\\phi$ on the underlying population) is within some range of the realized $\\phi(D)$.\n",
    "\n",
    "In OpenDP (and differentially private data analysis generally), there is an extra layer of uncertainty due to the noise added to $\\phi(D)$ to produce $\\phi_{dp}(D)$. OpenDP's accuracy metrics deal only with the uncertainty of $\\phi_{dp}(D)$ relative to $\\phi(D)$ and not the uncertainty of $\\phi(D)$ relative to $\\phi(P)$.\n",
    "\n",
    "#### What is $D$?\n",
    "\n",
    "OpenDP allows for analysis of data with an unknown number of rows by resizing the data to ensure consistency with an estimated size (see the [unknown dataset size notebook](https://github.com/opendp/opendp/blob/main/python/example/unknown_dataset_size.ipynb) for more details). Accuracy guarantees are always relative to the resized data $\\tilde{D}$, not the data of unknown size.\n",
    "\n",
    "#### Synopsis\n",
    "\n",
    "Let's say an analyst releases $\\phi_{dp}(D)$ and gets an accuracy guarantee of $a$ at accuracy-level $\\alpha$. $D$ as a dataset of unknown size drawn from population $P$ and will be resized to $\\tilde{D}$. This suggests that over infinite runs of this procedure,\n",
    "\n",
    "- $\\phi_{dp}(D) \\in [\\phi(\\tilde{D}) - a, \\phi(\\tilde{D}) + a]$ with probability $1 - \\alpha$\n",
    "- It is likely that $\\phi_{dp}(D) \\in [\\phi(D) - a, \\phi(D) + a]$ with probability $\\approx 1 - \\alpha$, though we cannot make any guarantee. For many cases (e.g. resizing the data based on $n$ obtained from a differentially private count and reasonable bounds on the data elements), this is likely to be approximately true. In the next section, we will explore some examples of cases where this statement holds to varying extents.\n",
    "\n",
    "- We cannot directly make statements about the relationship uncertainty of $\\phi_{dp}(D)$ relative to $\\phi(P)$.\n",
    "\n",
    "### Accuracy Guarantees In Practice\n",
    "\n",
    "We now move to some empirical evaluations of how well our accuracy guarantees translate from $\\phi(\\tilde{D})$ to $\\phi(D)$. We first consider the case where we actually know the size of the underlying data and are able to set plausible lower/upper bounds on `age`.\n"
   ],
   "metadata": {
    "collapsed": false,
    "pycharm": {
     "name": "#%% md\n"
    }
   }
  },
  {
   "cell_type": "code",
   "execution_count": 48,
   "outputs": [],
   "source": [
    "# load libraries\n",
    "import os\n",
    "import numpy as np\n",
    "import pandas as pd\n",
    "from opendp.accuracy import laplacian_scale_to_accuracy\n",
    "\n",
    "from opendp.meas import make_base_laplace\n",
    "from opendp.mod import enable_features, binary_search\n",
    "\n",
    "\n",
    "enable_features(\"contrib\")\n",
    "enable_features(\"floating-point\")\n",
    "\n",
    "# establish data information\n",
    "from opendp.trans import make_split_dataframe, make_cast_default, make_clamp, make_bounded_resize, \\\n",
    "    make_sized_bounded_mean, make_select_column, make_impute_uniform_float, make_cast, make_cast_inherent\n",
    "data_path = os.path.join('.', 'data', 'PUMS_california_demographics_1000', 'data.csv')\n",
    "var_names = [\"age\", \"sex\", \"educ\", \"race\", \"income\", \"married\", \"pid\"]\n",
    "D = pd.read_csv(data_path, names=var_names)\n",
    "age = D.age\n",
    "D_mean_age = np.mean(age)\n",
    "age_lower_bound = 0.\n",
    "age_upper_bound = 120.\n"
   ],
   "metadata": {
    "collapsed": false,
    "pycharm": {
     "name": "#%%\n"
    }
   }
  },
  {
   "cell_type": "code",
   "execution_count": 49,
   "outputs": [
    {
     "name": "stdout",
     "output_type": "stream",
     "text": [
      "Accuracy interval (with accuracy value 0.2996) contains the true mean on D_tilde with probability 0.952\n",
      "Accuracy interval (with accuracy value 0.2996) contains the true mean on D with probability 0.952\n"
     ]
    }
   ],
   "source": [
    "# establish extra information for this simulation\n",
    "age_bounds = (0., 100.)\n",
    "data_size = 1000\n",
    "n_sims = 1_000\n",
    "epsilon = 1.\n",
    "alpha = 0.05\n",
    "releases = []\n",
    "\n",
    "D_tilde = np.clip(D.age, age_bounds[0], age_bounds[1])\n",
    "D_tilde_mean_age = np.mean(D_tilde)\n",
    "\n",
    "def check_scale(scale, preprocessor, dataset_distance, epsilon):\n",
    "    return (preprocessor >> make_base_laplace(scale)).check(dataset_distance, epsilon)\n",
    "\n",
    "preprocessor = (\n",
    "    # Convert data into a dataframe of string columns\n",
    "    make_split_dataframe(separator=\",\", col_names=var_names) >>\n",
    "\n",
    "    # Selects a column of df, Vec<str>\n",
    "    make_select_column(key=\"age\", TOA=str) >>\n",
    "\n",
    "    # Cast the column as Vec<float>, and fill nulls with the default value, 0.\n",
    "    make_cast_default(TIA=str, TOA=float) >>\n",
    "\n",
    "    # Clamp age values\n",
    "    make_clamp(bounds=age_bounds) >>\n",
    "\n",
    "    # Resize the dataset to length `count_release`.\n",
    "    #     If there are fewer than `count_release` rows in the data, fill with a constant of 20.\n",
    "    #     If there are more than `count_release` rows in the data, only keep `count_release` rows\n",
    "    make_bounded_resize(size=data_size, bounds=age_bounds, constant=20.) >>\n",
    "\n",
    "    # Compute the mean\n",
    "    make_sized_bounded_mean(size=data_size, bounds=age_bounds)\n",
    ")\n",
    "\n",
    "scale = binary_search(lambda s: check_scale(s, preprocessor, 1, epsilon), bounds=(0.0, 1000.0))\n",
    "\n",
    "preprocessor = preprocessor >> make_base_laplace(scale)\n",
    "\n",
    "with open(data_path, 'r') as infile:\n",
    "    data = infile.read()\n",
    "    for index in range(n_sims):\n",
    "        # get DP mean of age\n",
    "        releases.append(\n",
    "            preprocessor(data)\n",
    "        )\n",
    "accuracy = laplacian_scale_to_accuracy(scale, alpha)\n",
    "print('Accuracy interval (with accuracy value {0}) contains the true mean on D_tilde with probability {1}'.format(\n",
    "    round(accuracy, 4),\n",
    "    np.mean([(D_tilde_mean_age >= val - accuracy) & (D_tilde_mean_age <= val + accuracy) for val in releases])))\n",
    "\n",
    "print('Accuracy interval (with accuracy value {0}) contains the true mean on D with probability {1}'.format(\n",
    "    round(accuracy, 4),\n",
    "    np.mean([(D_mean_age >= val - accuracy) & (D_mean_age <= val + accuracy) for val in releases])))"
   ],
   "metadata": {
    "collapsed": false,
    "pycharm": {
     "name": "#%%\n"
    }
   }
  },
  {
   "cell_type": "markdown",
   "source": [
    "This performance is as expected. $D$ and $\\tilde{D}$ are actually the exact same data (the maximum age in the raw data is 93, so our clamp to $[0, 100]$ does not change any values, and we know the correct $n$), so our theoretical guarantees on $\\tilde{D}$ map exactly to gaurantees on $D$.\n",
    "\n",
    "We now move to a scenario that is still realistic, but where the performance does not translate quite as well. In this case, we imagine that the analyst believes the data to be of size 1050 and uses the default imputation within resize so that the extra 50 elements are drawn uniformly from $\\{ 0, 1, ..., 100 \\}$.\n",
    "\n",
    "Note that our diagnostic testing of $\\tilde{D}$ in the code above is not trivial in this case. In the first example, we knew that clamp/resize did not change the underlying data, so we could predict exactly the data on which the DP mean would actually be calculated. This will not be true for the following examples, so we will simulate finding the true underlying mean by releasing an extra DP mean with very high epsilon."
   ],
   "metadata": {
    "collapsed": false,
    "pycharm": {
     "name": "#%% md\n"
    }
   }
  },
  {
   "cell_type": "code",
   "execution_count": 50,
   "outputs": [
    {
     "name": "stdout",
     "output_type": "stream",
     "text": [
      "Accuracy interval (with accuracy value 0.2853) contains the true mean on D_tilde with probability 0.4725\n",
      "Accuracy interval (with accuracy value 0.2853) contains the true mean on D with probability 0.4725\n"
     ]
    }
   ],
   "source": [
    "# establish extra information for this simulation\n",
    "age_lower_bound = 0.\n",
    "age_upper_bound = 100.\n",
    "data_size = 1050\n",
    "\n",
    "n_sims = 1_000\n",
    "true_D_tilde_mean_ages = []\n",
    "dp_D_tilde_mean_ages = []\n",
    "\n",
    "D_tilde = np.clip(D.age, age_bounds[0], age_bounds[1])\n",
    "D_tilde_mean_age = np.mean(D_tilde)\n",
    "\n",
    "def check_scale(scale, preprocessor, dataset_distance, epsilon):\n",
    "    return (preprocessor >> make_base_laplace(scale)).check(dataset_distance, epsilon)\n",
    "\n",
    "preprocessor = (\n",
    "    # Convert data into a dataframe of string columns\n",
    "    make_split_dataframe(separator=\",\", col_names=var_names) >>\n",
    "\n",
    "    # Selects a column of df, Vec<str>\n",
    "    make_select_column(key=\"age\", TOA=str) >>\n",
    "\n",
    "    # Cast the column as Vec<float>\n",
    "    make_cast_inherent(TIA=str, TOA=float) >>\n",
    "\n",
    "    # TODO: we need to impute missing values sampled from uniform, not a constant (see line 168)\n",
    "    make_impute_uniform_float(bounds=age_bounds) >>\n",
    "\n",
    "    # Clamp age values\n",
    "    make_clamp(bounds=age_bounds) >>\n",
    "\n",
    "    # Resize the dataset to length `data_size`.\n",
    "    #     If there are fewer than `data_size` rows in the data, fill with a constant of 20.\n",
    "    #     If there are more than `data_size` rows in the data, only keep `count_release` rows\n",
    "    make_bounded_resize(size=data_size, bounds=age_bounds, constant=20.) >>\n",
    "\n",
    "    # Compute the mean\n",
    "    make_sized_bounded_mean(size=data_size, bounds=age_bounds)\n",
    ")\n",
    "\n",
    "scale = binary_search(lambda s: check_scale(s, preprocessor, 1, epsilon), bounds=(0.0, 1000.0))\n",
    "\n",
    "preprocessor = preprocessor >> make_base_laplace(scale)\n",
    "\n",
    "with open(data_path, 'r') as infile:\n",
    "    data = infile.read()\n",
    "    for index in range(n_sims):\n",
    "        # get DP mean of age\n",
    "        releases.append(\n",
    "            preprocessor(data)\n",
    "        )\n",
    "accuracy = laplacian_scale_to_accuracy(scale, alpha)\n",
    "print('Accuracy interval (with accuracy value {0}) contains the true mean on D_tilde with probability {1}'.format(\n",
    "    round(accuracy, 4),\n",
    "    np.mean([(D_tilde_mean_age >= val - accuracy) & (D_tilde_mean_age <= val + accuracy) for val in releases])))\n",
    "\n",
    "print('Accuracy interval (with accuracy value {0}) contains the true mean on D with probability {1}'.format(\n",
    "    round(accuracy, 4),\n",
    "    np.mean([(D_mean_age >= val - accuracy) & (D_mean_age <= val + accuracy) for val in releases])))"
   ],
   "metadata": {
    "collapsed": false,
    "pycharm": {
     "name": "#%%\n"
    }
   }
  },
  {
   "cell_type": "markdown",
   "source": [
    "The accuracy guarantee still holds on $\\tilde{D}$ (as it should), but we now see much worse performance relative to the true underlying data $D$."
   ],
   "metadata": {
    "collapsed": false
   }
  },
  {
   "cell_type": "code",
   "execution_count": null,
   "outputs": [],
   "source": [],
   "metadata": {
    "collapsed": false,
    "pycharm": {
     "name": "#%%\n"
    }
   }
  },
  {
   "cell_type": "code",
   "execution_count": null,
   "outputs": [],
   "source": [],
   "metadata": {
    "collapsed": false,
    "pycharm": {
     "name": "#%%\n"
    }
   }
  },
  {
   "cell_type": "code",
   "execution_count": null,
   "outputs": [],
   "source": [],
   "metadata": {
    "collapsed": false,
    "pycharm": {
     "name": "#%%\n"
    }
   }
  },
  {
   "cell_type": "markdown",
   "source": [],
   "metadata": {
    "collapsed": false
   }
  },
  {
   "cell_type": "code",
   "execution_count": 50,
   "outputs": [],
   "source": [],
   "metadata": {
    "collapsed": false,
    "pycharm": {
     "name": "#%%\n"
    }
   }
  },
  {
   "cell_type": "code",
   "execution_count": 50,
   "outputs": [],
   "source": [],
   "metadata": {
    "collapsed": false,
    "pycharm": {
     "name": "#%%\n"
    }
   }
  },
  {
   "cell_type": "code",
   "execution_count": 50,
   "outputs": [],
   "source": [],
   "metadata": {
    "collapsed": false,
    "pycharm": {
     "name": "#%%\n"
    }
   }
  },
  {
   "cell_type": "code",
   "execution_count": 50,
   "outputs": [],
   "source": [],
   "metadata": {
    "collapsed": false,
    "pycharm": {
     "name": "#%%\n"
    }
   }
  }
 ],
 "metadata": {
  "kernelspec": {
   "name": "python3",
   "language": "python",
   "display_name": "Python 3 (ipykernel)"
  },
  "language_info": {
   "codemirror_mode": {
    "name": "ipython",
    "version": 2
   },
   "file_extension": ".py",
   "mimetype": "text/x-python",
   "name": "python",
   "nbconvert_exporter": "python",
   "pygments_lexer": "ipython2",
   "version": "2.7.6"
  }
 },
 "nbformat": 4,
 "nbformat_minor": 0
}